{
 "cells": [
  {
   "cell_type": "code",
   "execution_count": 2,
   "id": "60668b8e",
   "metadata": {
    "ExecuteTime": {
     "end_time": "2025-04-22T09:31:18.257992Z",
     "start_time": "2025-04-22T09:31:17.685588Z"
    }
   },
   "outputs": [],
   "source": [
    "import pandas as pd "
   ]
  },
  {
   "cell_type": "code",
   "execution_count": 3,
   "id": "a53d7c2a",
   "metadata": {
    "ExecuteTime": {
     "end_time": "2025-04-22T09:31:18.305222Z",
     "start_time": "2025-04-22T09:31:18.292899Z"
    }
   },
   "outputs": [],
   "source": [
    "df=pd.read_csv(r'C:\\Users\\pc\\Downloads\\Titanic-Dataset.csv',usecols=['Pclass','Survived','Age','Fare'])"
   ]
  },
  {
   "cell_type": "code",
   "execution_count": 4,
   "id": "2f84a312",
   "metadata": {
    "ExecuteTime": {
     "end_time": "2025-04-22T09:31:18.352240Z",
     "start_time": "2025-04-22T09:31:18.338245Z"
    }
   },
   "outputs": [
    {
     "data": {
      "text/plain": [
       "Index(['Survived', 'Pclass', 'Age', 'Fare'], dtype='object')"
      ]
     },
     "execution_count": 4,
     "metadata": {},
     "output_type": "execute_result"
    }
   ],
   "source": [
    "df.columns"
   ]
  },
  {
   "cell_type": "code",
   "execution_count": 5,
   "id": "0ba63edf",
   "metadata": {
    "ExecuteTime": {
     "end_time": "2025-04-22T09:31:18.416034Z",
     "start_time": "2025-04-22T09:31:18.388112Z"
    }
   },
   "outputs": [
    {
     "data": {
      "text/html": [
       "<div>\n",
       "<style scoped>\n",
       "    .dataframe tbody tr th:only-of-type {\n",
       "        vertical-align: middle;\n",
       "    }\n",
       "\n",
       "    .dataframe tbody tr th {\n",
       "        vertical-align: top;\n",
       "    }\n",
       "\n",
       "    .dataframe thead th {\n",
       "        text-align: right;\n",
       "    }\n",
       "</style>\n",
       "<table border=\"1\" class=\"dataframe\">\n",
       "  <thead>\n",
       "    <tr style=\"text-align: right;\">\n",
       "      <th></th>\n",
       "      <th>Survived</th>\n",
       "      <th>Pclass</th>\n",
       "      <th>Age</th>\n",
       "      <th>Fare</th>\n",
       "    </tr>\n",
       "  </thead>\n",
       "  <tbody>\n",
       "    <tr>\n",
       "      <th>0</th>\n",
       "      <td>0</td>\n",
       "      <td>3</td>\n",
       "      <td>22.0</td>\n",
       "      <td>7.2500</td>\n",
       "    </tr>\n",
       "    <tr>\n",
       "      <th>1</th>\n",
       "      <td>1</td>\n",
       "      <td>1</td>\n",
       "      <td>38.0</td>\n",
       "      <td>71.2833</td>\n",
       "    </tr>\n",
       "    <tr>\n",
       "      <th>2</th>\n",
       "      <td>1</td>\n",
       "      <td>3</td>\n",
       "      <td>26.0</td>\n",
       "      <td>7.9250</td>\n",
       "    </tr>\n",
       "    <tr>\n",
       "      <th>3</th>\n",
       "      <td>1</td>\n",
       "      <td>1</td>\n",
       "      <td>35.0</td>\n",
       "      <td>53.1000</td>\n",
       "    </tr>\n",
       "    <tr>\n",
       "      <th>4</th>\n",
       "      <td>0</td>\n",
       "      <td>3</td>\n",
       "      <td>35.0</td>\n",
       "      <td>8.0500</td>\n",
       "    </tr>\n",
       "  </tbody>\n",
       "</table>\n",
       "</div>"
      ],
      "text/plain": [
       "   Survived  Pclass   Age     Fare\n",
       "0         0       3  22.0   7.2500\n",
       "1         1       1  38.0  71.2833\n",
       "2         1       3  26.0   7.9250\n",
       "3         1       1  35.0  53.1000\n",
       "4         0       3  35.0   8.0500"
      ]
     },
     "execution_count": 5,
     "metadata": {},
     "output_type": "execute_result"
    }
   ],
   "source": [
    "df.head()"
   ]
  },
  {
   "cell_type": "code",
   "execution_count": 6,
   "id": "95bd941f",
   "metadata": {
    "ExecuteTime": {
     "end_time": "2025-04-22T09:31:18.479866Z",
     "start_time": "2025-04-22T09:31:18.457926Z"
    }
   },
   "outputs": [
    {
     "data": {
      "text/plain": [
       "Survived      0\n",
       "Pclass        0\n",
       "Age         177\n",
       "Fare          0\n",
       "dtype: int64"
      ]
     },
     "execution_count": 6,
     "metadata": {},
     "output_type": "execute_result"
    }
   ],
   "source": [
    "df.isnull().sum()"
   ]
  },
  {
   "cell_type": "code",
   "execution_count": 7,
   "id": "58c8adb8",
   "metadata": {
    "ExecuteTime": {
     "end_time": "2025-04-22T09:31:18.653379Z",
     "start_time": "2025-04-22T09:31:18.642834Z"
    }
   },
   "outputs": [
    {
     "name": "stderr",
     "output_type": "stream",
     "text": [
      "C:\\Users\\pc\\AppData\\Local\\Temp\\ipykernel_17376\\641257705.py:1: FutureWarning: Setting an item of incompatible dtype is deprecated and will raise in a future error of pandas. Value '<bound method Series.median of 0      22.0\n",
      "1      38.0\n",
      "2      26.0\n",
      "3      35.0\n",
      "4      35.0\n",
      "       ... \n",
      "886    27.0\n",
      "887    19.0\n",
      "888     NaN\n",
      "889    26.0\n",
      "890    32.0\n",
      "Name: Age, Length: 891, dtype: float64>' has dtype incompatible with float64, please explicitly cast to a compatible dtype first.\n",
      "  df['Age'].fillna(df['Age'].median,inplace=True)\n"
     ]
    }
   ],
   "source": [
    "df['Age'].fillna(df['Age'].median,inplace=True)"
   ]
  },
  {
   "cell_type": "code",
   "execution_count": 8,
   "id": "081907ae",
   "metadata": {
    "ExecuteTime": {
     "end_time": "2025-04-22T09:31:19.276564Z",
     "start_time": "2025-04-22T09:31:19.263009Z"
    }
   },
   "outputs": [],
   "source": [
    "##### Standardisation we use standard scar for Sklearn library "
   ]
  },
  {
   "cell_type": "code",
   "execution_count": 9,
   "id": "5137ccc4",
   "metadata": {
    "ExecuteTime": {
     "end_time": "2025-04-22T09:31:20.873278Z",
     "start_time": "2025-04-22T09:31:20.072318Z"
    }
   },
   "outputs": [],
   "source": [
    "from sklearn.preprocessing import StandardScaler"
   ]
  },
  {
   "cell_type": "code",
   "execution_count": 19,
   "id": "6f849585",
   "metadata": {
    "ExecuteTime": {
     "end_time": "2025-04-22T09:33:48.079255Z",
     "start_time": "2025-04-22T09:33:48.063669Z"
    }
   },
   "outputs": [],
   "source": [
    "from sklearn.preprocessing import StandardScaler\n",
    "\n",
    "scaler = StandardScaler()  # ✅ Create an object of the class\n",
    "df_scaled = scaler.fit_transform(df)\n"
   ]
  },
  {
   "cell_type": "code",
   "execution_count": 11,
   "id": "5aab84b4",
   "metadata": {
    "ExecuteTime": {
     "end_time": "2025-04-22T09:31:27.265443Z",
     "start_time": "2025-04-22T09:31:27.256408Z"
    }
   },
   "outputs": [
    {
     "data": {
      "text/plain": [
       "pandas.core.frame.DataFrame"
      ]
     },
     "execution_count": 11,
     "metadata": {},
     "output_type": "execute_result"
    }
   ],
   "source": [
    "type(df)\n"
   ]
  },
  {
   "cell_type": "code",
   "execution_count": 12,
   "id": "7c37adae",
   "metadata": {
    "ExecuteTime": {
     "end_time": "2025-04-22T09:31:28.179886Z",
     "start_time": "2025-04-22T09:31:28.166376Z"
    }
   },
   "outputs": [
    {
     "data": {
      "text/plain": [
       "Survived      int64\n",
       "Pclass        int64\n",
       "Age          object\n",
       "Fare        float64\n",
       "dtype: object"
      ]
     },
     "execution_count": 12,
     "metadata": {},
     "output_type": "execute_result"
    }
   ],
   "source": [
    "df.dtypes\n"
   ]
  },
  {
   "cell_type": "code",
   "execution_count": 15,
   "id": "86d62a43",
   "metadata": {
    "ExecuteTime": {
     "end_time": "2025-04-22T09:33:02.955775Z",
     "start_time": "2025-04-22T09:33:02.913870Z"
    }
   },
   "outputs": [
    {
     "name": "stdout",
     "output_type": "stream",
     "text": [
      "Missing values in Age: 177\n"
     ]
    }
   ],
   "source": [
    "import pandas as pd\n",
    "\n",
    "# 1. Force convert to numeric (invalid stuff becomes NaN)\n",
    "df['Age'] = pd.to_numeric(df['Age'], errors='coerce')\n",
    "\n",
    "# 2. Check if any NaNs are present (optional)\n",
    "print(\"Missing values in Age:\", df['Age'].isna().sum())\n",
    "\n",
    "# 3. Fill NaNs with mean or median\n",
    "df['Age'] = df['Age'].fillna(df['Age'].mean())\n",
    "\n",
    "# 4. Finally, convert to int safely\n",
    "df['Age'] = df['Age'].astype(int)\n"
   ]
  },
  {
   "cell_type": "code",
   "execution_count": 16,
   "id": "585fee39",
   "metadata": {
    "ExecuteTime": {
     "end_time": "2025-04-22T09:33:13.909660Z",
     "start_time": "2025-04-22T09:33:13.899996Z"
    }
   },
   "outputs": [
    {
     "data": {
      "text/plain": [
       "Survived      int64\n",
       "Pclass        int64\n",
       "Age           int32\n",
       "Fare        float64\n",
       "dtype: object"
      ]
     },
     "execution_count": 16,
     "metadata": {},
     "output_type": "execute_result"
    }
   ],
   "source": [
    "df.dtypes\n"
   ]
  },
  {
   "cell_type": "code",
   "execution_count": 18,
   "id": "283e46ce",
   "metadata": {
    "ExecuteTime": {
     "end_time": "2025-04-22T09:33:30.890445Z",
     "start_time": "2025-04-22T09:33:30.879962Z"
    }
   },
   "outputs": [
    {
     "data": {
      "text/plain": [
       "Survived    0\n",
       "Pclass      0\n",
       "Age         0\n",
       "Fare        0\n",
       "dtype: int64"
      ]
     },
     "execution_count": 18,
     "metadata": {},
     "output_type": "execute_result"
    }
   ],
   "source": [
    "df.isnull().sum()"
   ]
  },
  {
   "cell_type": "code",
   "execution_count": 21,
   "id": "87c6746f",
   "metadata": {
    "ExecuteTime": {
     "end_time": "2025-04-22T09:35:04.109998Z",
     "start_time": "2025-04-22T09:35:04.102983Z"
    }
   },
   "outputs": [
    {
     "data": {
      "text/plain": [
       "array([[-0.78927234,  0.82737724, -0.58004441, -0.50244517],\n",
       "       [ 1.2669898 , -1.56610693,  0.65011226,  0.78684529],\n",
       "       [ 1.2669898 ,  0.82737724, -0.27250525, -0.48885426],\n",
       "       ...,\n",
       "       [-0.78927234,  0.82737724, -0.04185087, -0.17626324],\n",
       "       [ 1.2669898 , -1.56610693, -0.27250525, -0.04438104],\n",
       "       [-0.78927234,  0.82737724,  0.18880351, -0.49237783]])"
      ]
     },
     "execution_count": 21,
     "metadata": {},
     "output_type": "execute_result"
    }
   ],
   "source": [
    "df_scaled"
   ]
  },
  {
   "cell_type": "code",
   "execution_count": 23,
   "id": "b8bac3b8",
   "metadata": {
    "ExecuteTime": {
     "end_time": "2025-04-22T12:05:43.642870Z",
     "start_time": "2025-04-22T12:05:43.632865Z"
    }
   },
   "outputs": [],
   "source": [
    "df_scaled = pd.DataFrame(df_scaled, columns=df.columns)"
   ]
  },
  {
   "cell_type": "code",
   "execution_count": 24,
   "id": "0ffd4b8c",
   "metadata": {
    "ExecuteTime": {
     "end_time": "2025-04-22T12:05:45.829965Z",
     "start_time": "2025-04-22T12:05:45.354755Z"
    }
   },
   "outputs": [
    {
     "data": {
      "image/png": "[encoded data removed]",
      "text/plain": [
       "<Figure size 640x480 with 1 Axes>"
      ]
     },
     "metadata": {},
     "output_type": "display_data"
    }
   ],
   "source": [
    "import seaborn as sns\n",
    "import matplotlib.pyplot as plt\n",
    "\n",
    "sns.histplot(df_scaled['Age'], kde=True)\n",
    "plt.title(\"Standardized Age Distribution\")\n",
    "plt.show()\n"
   ]
  },
  {
   "cell_type": "code",
   "execution_count": 25,
   "id": "a062e1c0",
   "metadata": {
    "ExecuteTime": {
     "end_time": "2025-04-22T12:07:25.411724Z",
     "start_time": "2025-04-22T12:07:25.393747Z"
    }
   },
   "outputs": [],
   "source": [
    "### Min max scaling (### CNN)--- Deep learning technique \n",
    "\n",
    "Min MAx scales  the values between 0 to 1 . x_scaled = (x-xmin/xmax-xmin)"
   ]
  },
  {
   "cell_type": "code",
   "execution_count": 29,
   "id": "6915d217",
   "metadata": {
    "ExecuteTime": {
     "end_time": "2025-04-22T12:12:15.495700Z",
     "start_time": "2025-04-22T12:12:15.475755Z"
    }
   },
   "outputs": [
    {
     "name": "stdout",
     "output_type": "stream",
     "text": [
      "   Survived  Pclass     Age      Fare\n",
      "0       0.0     1.0  0.2750  0.014151\n",
      "1       1.0     0.0  0.4750  0.139136\n",
      "2       1.0     1.0  0.3250  0.015469\n",
      "3       1.0     0.0  0.4375  0.103644\n",
      "4       0.0     1.0  0.4375  0.015713\n"
     ]
    }
   ],
   "source": [
    "from sklearn.preprocessing import MinMaxScaler\n",
    "\n",
    "min_max = MinMaxScaler()  # ✅ Use MinMaxScaler here\n",
    "df_min_max = pd.DataFrame(min_max.fit_transform(df), columns=df.columns)\n",
    "\n",
    "print(df_min_max.head())\n"
   ]
  },
  {
   "cell_type": "code",
   "execution_count": 30,
   "id": "7941b3b5",
   "metadata": {
    "ExecuteTime": {
     "end_time": "2025-04-22T12:12:17.568610Z",
     "start_time": "2025-04-22T12:12:17.550645Z"
    }
   },
   "outputs": [
    {
     "data": {
      "text/html": [
       "<div>\n",
       "<style scoped>\n",
       "    .dataframe tbody tr th:only-of-type {\n",
       "        vertical-align: middle;\n",
       "    }\n",
       "\n",
       "    .dataframe tbody tr th {\n",
       "        vertical-align: top;\n",
       "    }\n",
       "\n",
       "    .dataframe thead th {\n",
       "        text-align: right;\n",
       "    }\n",
       "</style>\n",
       "<table border=\"1\" class=\"dataframe\">\n",
       "  <thead>\n",
       "    <tr style=\"text-align: right;\">\n",
       "      <th></th>\n",
       "      <th>Survived</th>\n",
       "      <th>Pclass</th>\n",
       "      <th>Age</th>\n",
       "      <th>Fare</th>\n",
       "    </tr>\n",
       "  </thead>\n",
       "  <tbody>\n",
       "    <tr>\n",
       "      <th>0</th>\n",
       "      <td>0.0</td>\n",
       "      <td>1.0</td>\n",
       "      <td>0.2750</td>\n",
       "      <td>0.014151</td>\n",
       "    </tr>\n",
       "    <tr>\n",
       "      <th>1</th>\n",
       "      <td>1.0</td>\n",
       "      <td>0.0</td>\n",
       "      <td>0.4750</td>\n",
       "      <td>0.139136</td>\n",
       "    </tr>\n",
       "    <tr>\n",
       "      <th>2</th>\n",
       "      <td>1.0</td>\n",
       "      <td>1.0</td>\n",
       "      <td>0.3250</td>\n",
       "      <td>0.015469</td>\n",
       "    </tr>\n",
       "    <tr>\n",
       "      <th>3</th>\n",
       "      <td>1.0</td>\n",
       "      <td>0.0</td>\n",
       "      <td>0.4375</td>\n",
       "      <td>0.103644</td>\n",
       "    </tr>\n",
       "    <tr>\n",
       "      <th>4</th>\n",
       "      <td>0.0</td>\n",
       "      <td>1.0</td>\n",
       "      <td>0.4375</td>\n",
       "      <td>0.015713</td>\n",
       "    </tr>\n",
       "    <tr>\n",
       "      <th>...</th>\n",
       "      <td>...</td>\n",
       "      <td>...</td>\n",
       "      <td>...</td>\n",
       "      <td>...</td>\n",
       "    </tr>\n",
       "    <tr>\n",
       "      <th>886</th>\n",
       "      <td>0.0</td>\n",
       "      <td>0.5</td>\n",
       "      <td>0.3375</td>\n",
       "      <td>0.025374</td>\n",
       "    </tr>\n",
       "    <tr>\n",
       "      <th>887</th>\n",
       "      <td>1.0</td>\n",
       "      <td>0.0</td>\n",
       "      <td>0.2375</td>\n",
       "      <td>0.058556</td>\n",
       "    </tr>\n",
       "    <tr>\n",
       "      <th>888</th>\n",
       "      <td>0.0</td>\n",
       "      <td>1.0</td>\n",
       "      <td>0.3625</td>\n",
       "      <td>0.045771</td>\n",
       "    </tr>\n",
       "    <tr>\n",
       "      <th>889</th>\n",
       "      <td>1.0</td>\n",
       "      <td>0.0</td>\n",
       "      <td>0.3250</td>\n",
       "      <td>0.058556</td>\n",
       "    </tr>\n",
       "    <tr>\n",
       "      <th>890</th>\n",
       "      <td>0.0</td>\n",
       "      <td>1.0</td>\n",
       "      <td>0.4000</td>\n",
       "      <td>0.015127</td>\n",
       "    </tr>\n",
       "  </tbody>\n",
       "</table>\n",
       "<p>891 rows × 4 columns</p>\n",
       "</div>"
      ],
      "text/plain": [
       "     Survived  Pclass     Age      Fare\n",
       "0         0.0     1.0  0.2750  0.014151\n",
       "1         1.0     0.0  0.4750  0.139136\n",
       "2         1.0     1.0  0.3250  0.015469\n",
       "3         1.0     0.0  0.4375  0.103644\n",
       "4         0.0     1.0  0.4375  0.015713\n",
       "..        ...     ...     ...       ...\n",
       "886       0.0     0.5  0.3375  0.025374\n",
       "887       1.0     0.0  0.2375  0.058556\n",
       "888       0.0     1.0  0.3625  0.045771\n",
       "889       1.0     0.0  0.3250  0.058556\n",
       "890       0.0     1.0  0.4000  0.015127\n",
       "\n",
       "[891 rows x 4 columns]"
      ]
     },
     "execution_count": 30,
     "metadata": {},
     "output_type": "execute_result"
    }
   ],
   "source": [
    "df_min_max"
   ]
  },
  {
   "cell_type": "code",
   "execution_count": 31,
   "id": "1e31b81c",
   "metadata": {
    "ExecuteTime": {
     "end_time": "2025-04-22T12:14:36.433472Z",
     "start_time": "2025-04-22T12:14:36.168192Z"
    }
   },
   "outputs": [
    {
     "data": {
      "image/png": "[encoded data removed]",
      "text/plain": [
       "<Figure size 640x480 with 1 Axes>"
      ]
     },
     "metadata": {},
     "output_type": "display_data"
    }
   ],
   "source": [
    "import seaborn as sns\n",
    "import matplotlib.pyplot as plt\n",
    "\n",
    "sns.histplot(df_min_max['Age'], kde=True)\n",
    "plt.title(\"MinMAx Age Distribution\")\n",
    "plt.show()\n"
   ]
  },
  {
   "cell_type": "code",
   "execution_count": 32,
   "id": "a3fb1d82",
   "metadata": {
    "ExecuteTime": {
     "end_time": "2025-04-22T12:14:47.536549Z",
     "start_time": "2025-04-22T12:14:47.296207Z"
    }
   },
   "outputs": [
    {
     "data": {
      "image/png": "[encoded data removed]",
      "text/plain": [
       "<Figure size 640x480 with 1 Axes>"
      ]
     },
     "metadata": {},
     "output_type": "display_data"
    }
   ],
   "source": [
    "import seaborn as sns\n",
    "import matplotlib.pyplot as plt\n",
    "\n",
    "sns.histplot(df_min_max['Pclass'], kde=True)\n",
    "plt.title(\"MinMAx Age Distribution\")\n",
    "plt.show()\n"
   ]
  },
  {
   "cell_type": "markdown",
   "id": "7f6069b9",
   "metadata": {
    "ExecuteTime": {
     "end_time": "2025-04-22T12:53:39.292598Z",
     "start_time": "2025-04-22T12:53:39.277602Z"
    }
   },
   "source": [
    "### Robust scaler\n",
    " RobustScaler is a data preprocessing technique in machine learning\n",
    "that scales features using statistics that are robust to outliers. \n",
    "It removes the median and scales the data according to the interquartile range (IQR), \n",
    "making it less sensitive to extreme values compared to standard normalization methods."
   ]
  },
  {
   "cell_type": "code",
   "execution_count": 36,
   "id": "3f9be7c5",
   "metadata": {
    "ExecuteTime": {
     "end_time": "2025-04-22T12:54:36.943742Z",
     "start_time": "2025-04-22T12:54:36.919774Z"
    }
   },
   "outputs": [],
   "source": [
    "from sklearn.preprocessing import RobustScaler\n",
    "scaler = RobustScaler()\n",
    "df_robust = pd.DataFrame(scaler.fit_transform(df), columns=df.columns)\n"
   ]
  },
  {
   "cell_type": "code",
   "execution_count": 37,
   "id": "2790b0a3",
   "metadata": {
    "ExecuteTime": {
     "end_time": "2025-04-22T12:54:41.663845Z",
     "start_time": "2025-04-22T12:54:41.642875Z"
    }
   },
   "outputs": [
    {
     "data": {
      "text/html": [
       "<div>\n",
       "<style scoped>\n",
       "    .dataframe tbody tr th:only-of-type {\n",
       "        vertical-align: middle;\n",
       "    }\n",
       "\n",
       "    .dataframe tbody tr th {\n",
       "        vertical-align: top;\n",
       "    }\n",
       "\n",
       "    .dataframe thead th {\n",
       "        text-align: right;\n",
       "    }\n",
       "</style>\n",
       "<table border=\"1\" class=\"dataframe\">\n",
       "  <thead>\n",
       "    <tr style=\"text-align: right;\">\n",
       "      <th></th>\n",
       "      <th>Survived</th>\n",
       "      <th>Pclass</th>\n",
       "      <th>Age</th>\n",
       "      <th>Fare</th>\n",
       "    </tr>\n",
       "  </thead>\n",
       "  <tbody>\n",
       "    <tr>\n",
       "      <th>0</th>\n",
       "      <td>0.0</td>\n",
       "      <td>0.0</td>\n",
       "      <td>-0.538462</td>\n",
       "      <td>-0.312011</td>\n",
       "    </tr>\n",
       "    <tr>\n",
       "      <th>1</th>\n",
       "      <td>1.0</td>\n",
       "      <td>-2.0</td>\n",
       "      <td>0.692308</td>\n",
       "      <td>2.461242</td>\n",
       "    </tr>\n",
       "    <tr>\n",
       "      <th>2</th>\n",
       "      <td>1.0</td>\n",
       "      <td>0.0</td>\n",
       "      <td>-0.230769</td>\n",
       "      <td>-0.282777</td>\n",
       "    </tr>\n",
       "    <tr>\n",
       "      <th>3</th>\n",
       "      <td>1.0</td>\n",
       "      <td>-2.0</td>\n",
       "      <td>0.461538</td>\n",
       "      <td>1.673732</td>\n",
       "    </tr>\n",
       "    <tr>\n",
       "      <th>4</th>\n",
       "      <td>0.0</td>\n",
       "      <td>0.0</td>\n",
       "      <td>0.461538</td>\n",
       "      <td>-0.277363</td>\n",
       "    </tr>\n",
       "    <tr>\n",
       "      <th>...</th>\n",
       "      <td>...</td>\n",
       "      <td>...</td>\n",
       "      <td>...</td>\n",
       "      <td>...</td>\n",
       "    </tr>\n",
       "    <tr>\n",
       "      <th>886</th>\n",
       "      <td>0.0</td>\n",
       "      <td>-1.0</td>\n",
       "      <td>-0.153846</td>\n",
       "      <td>-0.062981</td>\n",
       "    </tr>\n",
       "    <tr>\n",
       "      <th>887</th>\n",
       "      <td>1.0</td>\n",
       "      <td>-2.0</td>\n",
       "      <td>-0.769231</td>\n",
       "      <td>0.673281</td>\n",
       "    </tr>\n",
       "    <tr>\n",
       "      <th>888</th>\n",
       "      <td>0.0</td>\n",
       "      <td>0.0</td>\n",
       "      <td>0.000000</td>\n",
       "      <td>0.389604</td>\n",
       "    </tr>\n",
       "    <tr>\n",
       "      <th>889</th>\n",
       "      <td>1.0</td>\n",
       "      <td>-2.0</td>\n",
       "      <td>-0.230769</td>\n",
       "      <td>0.673281</td>\n",
       "    </tr>\n",
       "    <tr>\n",
       "      <th>890</th>\n",
       "      <td>0.0</td>\n",
       "      <td>0.0</td>\n",
       "      <td>0.230769</td>\n",
       "      <td>-0.290356</td>\n",
       "    </tr>\n",
       "  </tbody>\n",
       "</table>\n",
       "<p>891 rows × 4 columns</p>\n",
       "</div>"
      ],
      "text/plain": [
       "     Survived  Pclass       Age      Fare\n",
       "0         0.0     0.0 -0.538462 -0.312011\n",
       "1         1.0    -2.0  0.692308  2.461242\n",
       "2         1.0     0.0 -0.230769 -0.282777\n",
       "3         1.0    -2.0  0.461538  1.673732\n",
       "4         0.0     0.0  0.461538 -0.277363\n",
       "..        ...     ...       ...       ...\n",
       "886       0.0    -1.0 -0.153846 -0.062981\n",
       "887       1.0    -2.0 -0.769231  0.673281\n",
       "888       0.0     0.0  0.000000  0.389604\n",
       "889       1.0    -2.0 -0.230769  0.673281\n",
       "890       0.0     0.0  0.230769 -0.290356\n",
       "\n",
       "[891 rows x 4 columns]"
      ]
     },
     "execution_count": 37,
     "metadata": {},
     "output_type": "execute_result"
    }
   ],
   "source": [
    "df_robust"
   ]
  },
  {
   "cell_type": "code",
   "execution_count": 39,
   "id": "1b7ca8a2",
   "metadata": {
    "ExecuteTime": {
     "end_time": "2025-04-22T12:55:12.624691Z",
     "start_time": "2025-04-22T12:55:12.386332Z"
    }
   },
   "outputs": [
    {
     "data": {
      "image/png": "[encoded data removed]",
      "text/plain": [
       "<Figure size 640x480 with 1 Axes>"
      ]
     },
     "metadata": {},
     "output_type": "display_data"
    }
   ],
   "source": [
    "import seaborn as sns\n",
    "import matplotlib.pyplot as plt\n",
    "\n",
    "sns.histplot(df_robust['Age'], kde=True)\n",
    "plt.title(\"MinMAx Age Distribution\")\n",
    "plt.show()\n"
   ]
  },
  {
   "cell_type": "code",
   "execution_count": null,
   "id": "428c9056",
   "metadata": {},
   "outputs": [],
   "source": []
  }
 ],
 "metadata": {
  "kernelspec": {
   "display_name": "Python 3 (ipykernel)",
   "language": "python",
   "name": "python3"
  },
  "language_info": {
   "codemirror_mode": {
    "name": "ipython",
    "version": 3
   },
   "file_extension": ".py",
   "mimetype": "text/x-python",
   "name": "python",
   "nbconvert_exporter": "python",
   "pygments_lexer": "ipython3",
   "version": "3.9.18"
  },
  "varInspector": {
   "cols": {
    "lenName": 16,
    "lenType": 16,
    "lenVar": 40
   },
   "kernels_config": {
    "python": {
     "delete_cmd_postfix": "",
     "delete_cmd_prefix": "del ",
     "library": "var_list.py",
     "varRefreshCmd": "print(var_dic_list())"
    },
    "r": {
     "delete_cmd_postfix": ") ",
     "delete_cmd_prefix": "rm(",
     "library": "var_list.r",
     "varRefreshCmd": "cat(var_dic_list()) "
    }
   },
   "types_to_exclude": [
    "module",
    "function",
    "builtin_function_or_method",
    "instance",
    "_Feature"
   ],
   "window_display": false
  }
 },
 "nbformat": 4,
 "nbformat_minor": 5
}
